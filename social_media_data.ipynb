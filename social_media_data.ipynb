{
 "cells": [
  {
   "cell_type": "markdown",
   "id": "f4d8d3a1-5423-4fdd-bf8c-21be415f7cbf",
   "metadata": {},
   "source": [
    "# Data Collection"
   ]
  },
  {
   "cell_type": "code",
   "execution_count": 1,
   "id": "c9a28e33-f835-44d6-a4ab-cf0900e43c15",
   "metadata": {},
   "outputs": [
    {
     "name": "stdout",
     "output_type": "stream",
     "text": [
      "Requirement already satisfied: scikit-learn in d:\\anaconda\\lib\\site-packages (1.5.0)\n",
      "Requirement already satisfied: numpy>=1.19.5 in d:\\anaconda\\lib\\site-packages (from scikit-learn) (1.26.4)\n",
      "Requirement already satisfied: scipy>=1.6.0 in d:\\anaconda\\lib\\site-packages (from scikit-learn) (1.11.4)\n",
      "Requirement already satisfied: joblib>=1.2.0 in d:\\anaconda\\lib\\site-packages (from scikit-learn) (1.2.0)\n",
      "Requirement already satisfied: threadpoolctl>=3.1.0 in d:\\anaconda\\lib\\site-packages (from scikit-learn) (3.5.0)\n"
     ]
    }
   ],
   "source": [
    "!pip install -U scikit-learn"
   ]
  },
  {
   "cell_type": "code",
   "execution_count": 2,
   "id": "0d9a6dac-9177-4b94-829e-4ef2bb27b161",
   "metadata": {},
   "outputs": [
    {
     "name": "stdout",
     "output_type": "stream",
     "text": [
      "Collecting sqlalchemy==1.4.46\n",
      "  Using cached SQLAlchemy-1.4.46-cp311-cp311-win_amd64.whl.metadata (10 kB)\n",
      "Requirement already satisfied: greenlet!=0.4.17 in d:\\anaconda\\lib\\site-packages (from sqlalchemy==1.4.46) (3.0.1)\n",
      "Using cached SQLAlchemy-1.4.46-cp311-cp311-win_amd64.whl (1.6 MB)\n",
      "Installing collected packages: sqlalchemy\n",
      "  Attempting uninstall: sqlalchemy\n",
      "    Found existing installation: SQLAlchemy 2.0.31\n",
      "    Uninstalling SQLAlchemy-2.0.31:\n",
      "      Successfully uninstalled SQLAlchemy-2.0.31\n",
      "Successfully installed sqlalchemy-1.4.46\n"
     ]
    },
    {
     "name": "stderr",
     "output_type": "stream",
     "text": [
      "ERROR: pip's dependency resolver does not currently take into account all the packages that are installed. This behaviour is the source of the following dependency conflicts.\n",
      "ipython-sql 0.5.0 requires sqlalchemy>=2.0, but you have sqlalchemy 1.4.46 which is incompatible.\n"
     ]
    }
   ],
   "source": [
    "!pip install sqlalchemy==1.4.46"
   ]
  },
  {
   "cell_type": "code",
   "execution_count": 3,
   "id": "a89b09d8-7e17-419f-a9c1-b6b2322e44ab",
   "metadata": {},
   "outputs": [
    {
     "name": "stdout",
     "output_type": "stream",
     "text": [
      "Requirement already satisfied: ipython-sql in d:\\anaconda\\lib\\site-packages (0.5.0)\n",
      "Requirement already satisfied: prettytable in d:\\anaconda\\lib\\site-packages (from ipython-sql) (3.10.0)\n",
      "Requirement already satisfied: ipython in d:\\anaconda\\lib\\site-packages (from ipython-sql) (8.20.0)\n",
      "Collecting sqlalchemy>=2.0 (from ipython-sql)\n",
      "  Using cached SQLAlchemy-2.0.31-cp311-cp311-win_amd64.whl.metadata (9.9 kB)\n",
      "Requirement already satisfied: sqlparse in d:\\anaconda\\lib\\site-packages (from ipython-sql) (0.5.0)\n",
      "Requirement already satisfied: six in d:\\anaconda\\lib\\site-packages (from ipython-sql) (1.16.0)\n",
      "Requirement already satisfied: ipython-genutils in d:\\anaconda\\lib\\site-packages (from ipython-sql) (0.2.0)\n",
      "Requirement already satisfied: typing-extensions>=4.6.0 in d:\\anaconda\\lib\\site-packages (from sqlalchemy>=2.0->ipython-sql) (4.9.0)\n",
      "Requirement already satisfied: greenlet!=0.4.17 in d:\\anaconda\\lib\\site-packages (from sqlalchemy>=2.0->ipython-sql) (3.0.1)\n",
      "Requirement already satisfied: decorator in d:\\anaconda\\lib\\site-packages (from ipython->ipython-sql) (5.1.1)\n",
      "Requirement already satisfied: jedi>=0.16 in d:\\anaconda\\lib\\site-packages (from ipython->ipython-sql) (0.18.1)\n",
      "Requirement already satisfied: matplotlib-inline in d:\\anaconda\\lib\\site-packages (from ipython->ipython-sql) (0.1.6)\n",
      "Requirement already satisfied: prompt-toolkit<3.1.0,>=3.0.41 in d:\\anaconda\\lib\\site-packages (from ipython->ipython-sql) (3.0.43)\n",
      "Requirement already satisfied: pygments>=2.4.0 in d:\\anaconda\\lib\\site-packages (from ipython->ipython-sql) (2.15.1)\n",
      "Requirement already satisfied: stack-data in d:\\anaconda\\lib\\site-packages (from ipython->ipython-sql) (0.2.0)\n",
      "Requirement already satisfied: traitlets>=5 in d:\\anaconda\\lib\\site-packages (from ipython->ipython-sql) (5.7.1)\n",
      "Requirement already satisfied: colorama in d:\\anaconda\\lib\\site-packages (from ipython->ipython-sql) (0.4.6)\n",
      "Requirement already satisfied: wcwidth in d:\\anaconda\\lib\\site-packages (from prettytable->ipython-sql) (0.2.5)\n",
      "Requirement already satisfied: parso<0.9.0,>=0.8.0 in d:\\anaconda\\lib\\site-packages (from jedi>=0.16->ipython->ipython-sql) (0.8.3)\n",
      "Requirement already satisfied: executing in d:\\anaconda\\lib\\site-packages (from stack-data->ipython->ipython-sql) (0.8.3)\n",
      "Requirement already satisfied: asttokens in d:\\anaconda\\lib\\site-packages (from stack-data->ipython->ipython-sql) (2.0.5)\n",
      "Requirement already satisfied: pure-eval in d:\\anaconda\\lib\\site-packages (from stack-data->ipython->ipython-sql) (0.2.2)\n",
      "Using cached SQLAlchemy-2.0.31-cp311-cp311-win_amd64.whl (2.1 MB)\n",
      "Installing collected packages: sqlalchemy\n",
      "  Attempting uninstall: sqlalchemy\n",
      "    Found existing installation: SQLAlchemy 1.4.46\n",
      "    Uninstalling SQLAlchemy-1.4.46:\n",
      "      Successfully uninstalled SQLAlchemy-1.4.46\n",
      "Successfully installed sqlalchemy-2.0.31\n"
     ]
    }
   ],
   "source": [
    "!pip install ipython-sql"
   ]
  },
  {
   "cell_type": "code",
   "execution_count": 4,
   "id": "889f5ead-3ae8-43b9-8dae-fb057bdc73d7",
   "metadata": {},
   "outputs": [],
   "source": [
    "import pandas as pd\n",
    "import matplotlib.pyplot as plt\n",
    "import numpy as np\n",
    "import seaborn as sns\n",
    "from sklearn.pipeline import Pipeline\n",
    "from sklearn.preprocessing import StandardScaler,PolynomialFeatures\n",
    "from sklearn.linear_model import LinearRegression\n",
    "%matplotlib inline"
   ]
  },
  {
   "cell_type": "code",
   "execution_count": 5,
   "id": "1c2b06a4-1a47-433d-a28f-068ff9cd6c4c",
   "metadata": {},
   "outputs": [],
   "source": [
    "%load_ext sql"
   ]
  },
  {
   "cell_type": "code",
   "execution_count": 6,
   "id": "7f6f4487-a37c-4b00-937c-f7163644b9ca",
   "metadata": {},
   "outputs": [],
   "source": [
    "import csv, sqlite3\n",
    "import requests\n",
    "import datetime"
   ]
  },
  {
   "cell_type": "code",
   "execution_count": 7,
   "id": "a4888c22-8226-44b4-89b3-71d4220279e2",
   "metadata": {},
   "outputs": [],
   "source": [
    "# print all collumns of a dataframe\n",
    "pd.set_option('display.max_columns', None)\n",
    "# print all of the data in a feature\n",
    "pd.set_option('display.max_colwidth', None)"
   ]
  },
  {
   "cell_type": "code",
   "execution_count": 8,
   "id": "4fbd3753-191c-4773-9043-4c61cd9d44ef",
   "metadata": {},
   "outputs": [
    {
     "data": {
      "text/html": [
       "<div>\n",
       "<style scoped>\n",
       "    .dataframe tbody tr th:only-of-type {\n",
       "        vertical-align: middle;\n",
       "    }\n",
       "\n",
       "    .dataframe tbody tr th {\n",
       "        vertical-align: top;\n",
       "    }\n",
       "\n",
       "    .dataframe thead th {\n",
       "        text-align: right;\n",
       "    }\n",
       "</style>\n",
       "<table border=\"1\" class=\"dataframe\">\n",
       "  <thead>\n",
       "    <tr style=\"text-align: right;\">\n",
       "      <th></th>\n",
       "      <th>date</th>\n",
       "      <th>platform</th>\n",
       "      <th>post_type</th>\n",
       "      <th>likes</th>\n",
       "      <th>shares</th>\n",
       "      <th>comments</th>\n",
       "      <th>views</th>\n",
       "    </tr>\n",
       "  </thead>\n",
       "  <tbody>\n",
       "    <tr>\n",
       "      <th>0</th>\n",
       "      <td>2023-05-24</td>\n",
       "      <td>Twitter</td>\n",
       "      <td>image</td>\n",
       "      <td>868.0</td>\n",
       "      <td>238.0</td>\n",
       "      <td>352.0</td>\n",
       "      <td>8836.0</td>\n",
       "    </tr>\n",
       "    <tr>\n",
       "      <th>1</th>\n",
       "      <td>2023-02-23</td>\n",
       "      <td>Twitter</td>\n",
       "      <td>image</td>\n",
       "      <td>944.0</td>\n",
       "      <td>610.0</td>\n",
       "      <td>146.0</td>\n",
       "      <td>5554.0</td>\n",
       "    </tr>\n",
       "    <tr>\n",
       "      <th>2</th>\n",
       "      <td>2023-03-18</td>\n",
       "      <td>Instagram</td>\n",
       "      <td>image</td>\n",
       "      <td>1067.0</td>\n",
       "      <td>858.0</td>\n",
       "      <td>365.0</td>\n",
       "      <td>4018.0</td>\n",
       "    </tr>\n",
       "    <tr>\n",
       "      <th>3</th>\n",
       "      <td>2023-06-12</td>\n",
       "      <td>Twitter</td>\n",
       "      <td>text</td>\n",
       "      <td>780.0</td>\n",
       "      <td>427.0</td>\n",
       "      <td>100.0</td>\n",
       "      <td>6999.0</td>\n",
       "    </tr>\n",
       "    <tr>\n",
       "      <th>4</th>\n",
       "      <td>2023-02-03</td>\n",
       "      <td>Instagram</td>\n",
       "      <td>text</td>\n",
       "      <td>836.0</td>\n",
       "      <td>893.0</td>\n",
       "      <td>443.0</td>\n",
       "      <td>5802.0</td>\n",
       "    </tr>\n",
       "  </tbody>\n",
       "</table>\n",
       "</div>"
      ],
      "text/plain": [
       "         date   platform post_type   likes  shares  comments   views\n",
       "0  2023-05-24    Twitter     image   868.0   238.0     352.0  8836.0\n",
       "1  2023-02-23    Twitter     image   944.0   610.0     146.0  5554.0\n",
       "2  2023-03-18  Instagram     image  1067.0   858.0     365.0  4018.0\n",
       "3  2023-06-12    Twitter      text   780.0   427.0     100.0  6999.0\n",
       "4  2023-02-03  Instagram      text   836.0   893.0     443.0  5802.0"
      ]
     },
     "execution_count": 8,
     "metadata": {},
     "output_type": "execute_result"
    }
   ],
   "source": [
    "# read dataset and display the first 5 rows\n",
    "df = pd.read_csv('social_media_data.csv')\n",
    "df.head()"
   ]
  },
  {
   "cell_type": "markdown",
   "id": "124d9aeb-6094-48ad-8ebe-b1809e52dbaf",
   "metadata": {},
   "source": [
    "# Data Cleaning"
   ]
  },
  {
   "cell_type": "code",
   "execution_count": 9,
   "id": "3a9833b4-a11e-4905-9fee-a162d87a2c34",
   "metadata": {},
   "outputs": [
    {
     "data": {
      "text/plain": [
       "date          object\n",
       "platform      object\n",
       "post_type     object\n",
       "likes        float64\n",
       "shares       float64\n",
       "comments     float64\n",
       "views        float64\n",
       "dtype: object"
      ]
     },
     "execution_count": 9,
     "metadata": {},
     "output_type": "execute_result"
    }
   ],
   "source": [
    "df.dtypes"
   ]
  },
  {
   "cell_type": "code",
   "execution_count": 10,
   "id": "7d75cee0-99a4-4be1-b75e-37a5314a05f1",
   "metadata": {},
   "outputs": [
    {
     "data": {
      "text/plain": [
       "date         0.0\n",
       "platform     0.0\n",
       "post_type    0.0\n",
       "likes        0.4\n",
       "shares       0.4\n",
       "comments     0.4\n",
       "views        0.5\n",
       "dtype: float64"
      ]
     },
     "execution_count": 10,
     "metadata": {},
     "output_type": "execute_result"
    }
   ],
   "source": [
    "#calculate missing values\n",
    "df.isnull().sum()/len(df)*100"
   ]
  },
  {
   "cell_type": "code",
   "execution_count": 11,
   "id": "2d541a53-464f-491b-af99-b8eedc6fe8f3",
   "metadata": {},
   "outputs": [
    {
     "name": "stdout",
     "output_type": "stream",
     "text": [
      "number of NaN values for the column likes : 8\n",
      "number of NaN values for the column shares : 8\n",
      "number of NaN values for the column comments : 8\n",
      "number of NaN values for the column views : 10\n"
     ]
    }
   ],
   "source": [
    "#printing the number of missing values based on what was found \n",
    "print(\"number of NaN values for the column likes :\", df['likes'].isnull().sum())\n",
    "print(\"number of NaN values for the column shares :\", df['shares'].isnull().sum())\n",
    "print(\"number of NaN values for the column comments :\", df['comments'].isnull().sum())\n",
    "print(\"number of NaN values for the column views :\", df['views'].isnull().sum())"
   ]
  },
  {
   "cell_type": "code",
   "execution_count": 12,
   "id": "e0f25be5-9a6b-4634-90eb-4d829808833f",
   "metadata": {},
   "outputs": [],
   "source": [
    "#cleaning up the data by filling the missing values with the mean of the column\n",
    "likes_mean = df['likes'].mean()\n",
    "df['likes'].replace(np.nan,likes_mean,inplace=True)\n",
    "\n",
    "shares_mean = df['shares'].mean()\n",
    "df['shares'].replace(np.nan,shares_mean,inplace=True)\n",
    "\n",
    "comments_mean = df['comments'].mean()\n",
    "df['comments'].replace(np.nan,comments_mean,inplace=True)\n",
    "\n",
    "views_mean = df['views'].mean()\n",
    "df['views'].replace(np.nan,views_mean,inplace=True)"
   ]
  },
  {
   "cell_type": "code",
   "execution_count": 13,
   "id": "b19916b1-825b-4167-9971-fa56b6f9c1f9",
   "metadata": {},
   "outputs": [
    {
     "name": "stdout",
     "output_type": "stream",
     "text": [
      "number of NaN values for the column likes : 0\n",
      "number of NaN values for the column shares : 0\n",
      "number of NaN values for the column comments : 0\n",
      "number of NaN values for the column views : 0\n"
     ]
    }
   ],
   "source": [
    "#checking for missing values\n",
    "print(\"number of NaN values for the column likes :\", df['likes'].isnull().sum())\n",
    "print(\"number of NaN values for the column shares :\", df['shares'].isnull().sum())\n",
    "print(\"number of NaN values for the column comments :\", df['comments'].isnull().sum())\n",
    "print(\"number of NaN values for the column views :\", df['views'].isnull().sum())"
   ]
  },
  {
   "cell_type": "code",
   "execution_count": 14,
   "id": "0d8097b7-1829-489d-8f39-bb14d7f320c0",
   "metadata": {},
   "outputs": [
    {
     "data": {
      "text/html": [
       "<div>\n",
       "<style scoped>\n",
       "    .dataframe tbody tr th:only-of-type {\n",
       "        vertical-align: middle;\n",
       "    }\n",
       "\n",
       "    .dataframe tbody tr th {\n",
       "        vertical-align: top;\n",
       "    }\n",
       "\n",
       "    .dataframe thead th {\n",
       "        text-align: right;\n",
       "    }\n",
       "</style>\n",
       "<table border=\"1\" class=\"dataframe\">\n",
       "  <thead>\n",
       "    <tr style=\"text-align: right;\">\n",
       "      <th></th>\n",
       "      <th>count</th>\n",
       "    </tr>\n",
       "    <tr>\n",
       "      <th>platform</th>\n",
       "      <th></th>\n",
       "    </tr>\n",
       "  </thead>\n",
       "  <tbody>\n",
       "    <tr>\n",
       "      <th>Twitter</th>\n",
       "      <td>685</td>\n",
       "    </tr>\n",
       "    <tr>\n",
       "      <th>Instagram</th>\n",
       "      <td>678</td>\n",
       "    </tr>\n",
       "    <tr>\n",
       "      <th>Facebook</th>\n",
       "      <td>631</td>\n",
       "    </tr>\n",
       "    <tr>\n",
       "      <th>NonExistingPlatform</th>\n",
       "      <td>6</td>\n",
       "    </tr>\n",
       "  </tbody>\n",
       "</table>\n",
       "</div>"
      ],
      "text/plain": [
       "                     count\n",
       "platform                  \n",
       "Twitter                685\n",
       "Instagram              678\n",
       "Facebook               631\n",
       "NonExistingPlatform      6"
      ]
     },
     "execution_count": 14,
     "metadata": {},
     "output_type": "execute_result"
    }
   ],
   "source": [
    "df['platform'].value_counts().to_frame()"
   ]
  },
  {
   "cell_type": "markdown",
   "id": "039f4b64-dd85-4547-961d-fe06a88cd77b",
   "metadata": {},
   "source": [
    "##### Since there's a NonExisting Platform, I delete it as it is of no use and it will hinder the data "
   ]
  },
  {
   "cell_type": "code",
   "execution_count": 15,
   "id": "c028fb5e-483a-43da-bbc9-d308cd3a6b72",
   "metadata": {},
   "outputs": [],
   "source": [
    "df =  df[df['platform']!= 'NonExistingPlatform']"
   ]
  },
  {
   "cell_type": "code",
   "execution_count": 16,
   "id": "b6842ca8-c7e8-4ca2-9043-743e863603ce",
   "metadata": {},
   "outputs": [
    {
     "data": {
      "text/html": [
       "<div>\n",
       "<style scoped>\n",
       "    .dataframe tbody tr th:only-of-type {\n",
       "        vertical-align: middle;\n",
       "    }\n",
       "\n",
       "    .dataframe tbody tr th {\n",
       "        vertical-align: top;\n",
       "    }\n",
       "\n",
       "    .dataframe thead th {\n",
       "        text-align: right;\n",
       "    }\n",
       "</style>\n",
       "<table border=\"1\" class=\"dataframe\">\n",
       "  <thead>\n",
       "    <tr style=\"text-align: right;\">\n",
       "      <th></th>\n",
       "      <th>count</th>\n",
       "    </tr>\n",
       "    <tr>\n",
       "      <th>platform</th>\n",
       "      <th></th>\n",
       "    </tr>\n",
       "  </thead>\n",
       "  <tbody>\n",
       "    <tr>\n",
       "      <th>Twitter</th>\n",
       "      <td>685</td>\n",
       "    </tr>\n",
       "    <tr>\n",
       "      <th>Instagram</th>\n",
       "      <td>678</td>\n",
       "    </tr>\n",
       "    <tr>\n",
       "      <th>Facebook</th>\n",
       "      <td>631</td>\n",
       "    </tr>\n",
       "  </tbody>\n",
       "</table>\n",
       "</div>"
      ],
      "text/plain": [
       "           count\n",
       "platform        \n",
       "Twitter      685\n",
       "Instagram    678\n",
       "Facebook     631"
      ]
     },
     "execution_count": 16,
     "metadata": {},
     "output_type": "execute_result"
    }
   ],
   "source": [
    "df['platform'].value_counts().to_frame()"
   ]
  },
  {
   "cell_type": "code",
   "execution_count": 17,
   "id": "bcdfc2fc-3fc9-40f9-ae3c-934df3d091b8",
   "metadata": {},
   "outputs": [],
   "source": [
    "#converting the columns to their appropriate data types\n",
    "df['likes'] = df['likes'].astype('int64')\n",
    "df['shares'] = df['shares'].astype('int64')\n",
    "df['comments'] = df['comments'].astype('int64')\n",
    "df['views'] = df['views'].astype('int64')\n",
    "\n",
    "df['date'] = df['date'].astype('datetime64[ns]')"
   ]
  },
  {
   "cell_type": "code",
   "execution_count": 18,
   "id": "e17c4bf3-0a78-4b42-8b48-20405aae92aa",
   "metadata": {},
   "outputs": [
    {
     "data": {
      "text/plain": [
       "date         datetime64[ns]\n",
       "platform             object\n",
       "post_type            object\n",
       "likes                 int64\n",
       "shares                int64\n",
       "comments              int64\n",
       "views                 int64\n",
       "dtype: object"
      ]
     },
     "execution_count": 18,
     "metadata": {},
     "output_type": "execute_result"
    }
   ],
   "source": [
    "df.dtypes"
   ]
  },
  {
   "cell_type": "markdown",
   "id": "4f42492c-1b0d-431a-8903-02ed4f499a1f",
   "metadata": {},
   "source": [
    "# Data Analysis"
   ]
  },
  {
   "cell_type": "code",
   "execution_count": 19,
   "id": "33e65a6f-a835-45bd-b863-41bc513ccedf",
   "metadata": {},
   "outputs": [],
   "source": [
    "con = sqlite3.connect(\"my_data1.db\")\n",
    "cur = con.cursor()"
   ]
  },
  {
   "cell_type": "code",
   "execution_count": 20,
   "id": "07990673-d2ea-4739-b009-2ab7fc56de69",
   "metadata": {},
   "outputs": [],
   "source": [
    "%sql sqlite:///my_data1.db"
   ]
  },
  {
   "cell_type": "code",
   "execution_count": 21,
   "id": "dc0a256f-6a19-4642-b766-632cf5ea9538",
   "metadata": {},
   "outputs": [
    {
     "data": {
      "text/plain": [
       "1994"
      ]
     },
     "execution_count": 21,
     "metadata": {},
     "output_type": "execute_result"
    }
   ],
   "source": [
    "df.to_sql(\"SOCIALDATA\", con, if_exists='replace', index=False,method=\"multi\")"
   ]
  },
  {
   "cell_type": "code",
   "execution_count": 22,
   "id": "6fdf9b01-742e-4d8e-b4e3-55a7af1d0a1f",
   "metadata": {},
   "outputs": [
    {
     "name": "stdout",
     "output_type": "stream",
     "text": [
      " * sqlite:///my_data1.db\n",
      "(sqlite3.OperationalError) table SOCIALDATATBL already exists\n",
      "[SQL: create table SOCIALDATATBL as select * from SOCIALDATA where Date is not null]\n",
      "(Background on this error at: https://sqlalche.me/e/20/e3q8)\n"
     ]
    }
   ],
   "source": [
    "%sql create table SOCIALDATATBL as select * from SOCIALDATA where Date is not null"
   ]
  },
  {
   "cell_type": "markdown",
   "id": "53fb3247-8ea2-4c24-8c8d-ebcac0b475e5",
   "metadata": {},
   "source": [
    "### Q1) What was the total number of likes, shares, comments, and views (for videos) over the year?"
   ]
  },
  {
   "cell_type": "code",
   "execution_count": 23,
   "id": "cb959880-143f-40c6-a292-3acca71a36d9",
   "metadata": {},
   "outputs": [
    {
     "name": "stdout",
     "output_type": "stream",
     "text": [
      " * sqlite:///my_data1.db\n",
      "Done.\n"
     ]
    },
    {
     "data": {
      "text/html": [
       "<table>\n",
       "    <thead>\n",
       "        <tr>\n",
       "            <th>sum(likes)</th>\n",
       "            <th>sum(shares)</th>\n",
       "            <th>sum(comments)</th>\n",
       "            <th>sum(views)</th>\n",
       "        </tr>\n",
       "    </thead>\n",
       "    <tbody>\n",
       "        <tr>\n",
       "            <td>815438</td>\n",
       "            <td>311331</td>\n",
       "            <td>194617</td>\n",
       "            <td>4485335</td>\n",
       "        </tr>\n",
       "    </tbody>\n",
       "</table>"
      ],
      "text/plain": [
       "[(815438, 311331, 194617, 4485335)]"
      ]
     },
     "execution_count": 23,
     "metadata": {},
     "output_type": "execute_result"
    }
   ],
   "source": [
    "%sql select sum(likes), sum(shares), sum(comments), sum(views) from SOCIALDATATBL where post_type = 'video'"
   ]
  },
  {
   "cell_type": "markdown",
   "id": "f45846ba-8521-4764-9257-fcd4a7b1f118",
   "metadata": {},
   "source": [
    "### Q2) Which platform had the highest engagement? (engagement = likes + shares + comments)"
   ]
  },
  {
   "cell_type": "code",
   "execution_count": 24,
   "id": "4351eaf7-c160-46e6-86bc-295a9ef43868",
   "metadata": {},
   "outputs": [
    {
     "name": "stdout",
     "output_type": "stream",
     "text": [
      " * sqlite:///my_data1.db\n",
      "Done.\n"
     ]
    },
    {
     "data": {
      "text/html": [
       "<table>\n",
       "    <thead>\n",
       "        <tr>\n",
       "            <th>platform</th>\n",
       "            <th>total_engagement</th>\n",
       "        </tr>\n",
       "    </thead>\n",
       "    <tbody>\n",
       "        <tr>\n",
       "            <td>Instagram</td>\n",
       "            <td>1426670</td>\n",
       "        </tr>\n",
       "        <tr>\n",
       "            <td>Twitter</td>\n",
       "            <td>1413395</td>\n",
       "        </tr>\n",
       "        <tr>\n",
       "            <td>Facebook</td>\n",
       "            <td>1334070</td>\n",
       "        </tr>\n",
       "    </tbody>\n",
       "</table>"
      ],
      "text/plain": [
       "[('Instagram', 1426670), ('Twitter', 1413395), ('Facebook', 1334070)]"
      ]
     },
     "execution_count": 24,
     "metadata": {},
     "output_type": "execute_result"
    }
   ],
   "source": [
    "#adding likes, shares and comments and name them as total_engagement and then sort the platforms in a descending order\n",
    "%sql select platform, sum(likes+ shares+ comments) as total_engagement  from SOCIALDATATBL group by platform order by total_engagement desc"
   ]
  },
  {
   "cell_type": "markdown",
   "id": "c9445bae-0da2-4258-8ece-c56195ebfa4f",
   "metadata": {},
   "source": [
    "### Q3) What was the average number of likes, shares, comments, and views per post on each platform?"
   ]
  },
  {
   "cell_type": "code",
   "execution_count": 25,
   "id": "257891b5-96a1-4f6b-a5a4-4f0eadab10c6",
   "metadata": {},
   "outputs": [
    {
     "name": "stdout",
     "output_type": "stream",
     "text": [
      " * sqlite:///my_data1.db\n",
      "Done.\n"
     ]
    },
    {
     "data": {
      "text/html": [
       "<table>\n",
       "    <thead>\n",
       "        <tr>\n",
       "            <th>platform</th>\n",
       "            <th>avg_likes</th>\n",
       "            <th>avg_shares</th>\n",
       "            <th>avg_comments</th>\n",
       "            <th>avg_views</th>\n",
       "        </tr>\n",
       "    </thead>\n",
       "    <tbody>\n",
       "        <tr>\n",
       "            <td>Facebook</td>\n",
       "            <td>1289.9746434231379</td>\n",
       "            <td>513.0903328050713</td>\n",
       "            <td>311.1505546751189</td>\n",
       "            <td>6984.123613312203</td>\n",
       "        </tr>\n",
       "        <tr>\n",
       "            <td>Instagram</td>\n",
       "            <td>1305.787610619469</td>\n",
       "            <td>497.3702064896755</td>\n",
       "            <td>301.07522123893807</td>\n",
       "            <td>6906.141592920354</td>\n",
       "        </tr>\n",
       "        <tr>\n",
       "            <td>Twitter</td>\n",
       "            <td>1275.014598540146</td>\n",
       "            <td>482.4802919708029</td>\n",
       "            <td>305.85547445255474</td>\n",
       "            <td>7013.051094890511</td>\n",
       "        </tr>\n",
       "    </tbody>\n",
       "</table>"
      ],
      "text/plain": [
       "[('Facebook', 1289.9746434231379, 513.0903328050713, 311.1505546751189, 6984.123613312203),\n",
       " ('Instagram', 1305.787610619469, 497.3702064896755, 301.07522123893807, 6906.141592920354),\n",
       " ('Twitter', 1275.014598540146, 482.4802919708029, 305.85547445255474, 7013.051094890511)]"
      ]
     },
     "execution_count": 25,
     "metadata": {},
     "output_type": "execute_result"
    }
   ],
   "source": [
    "%sql select platform, avg(likes) as avg_likes, avg(shares) as avg_shares, avg(comments) as avg_comments, avg(views) as avg_views from SOCIALDATATBL group by platform "
   ]
  },
  {
   "cell_type": "markdown",
   "id": "051b6cf8-63ae-417d-9a78-7ce5f0e57f6c",
   "metadata": {},
   "source": [
    "### Q4) What was the total number of each type of post (video, image, text) on each platform?\r\n",
    "\r\n"
   ]
  },
  {
   "cell_type": "code",
   "execution_count": 26,
   "id": "297d14ed-ee84-4642-a041-8cd869b563b7",
   "metadata": {},
   "outputs": [
    {
     "name": "stdout",
     "output_type": "stream",
     "text": [
      " * sqlite:///my_data1.db\n",
      "Done.\n"
     ]
    },
    {
     "data": {
      "text/html": [
       "<table>\n",
       "    <thead>\n",
       "        <tr>\n",
       "            <th>platform</th>\n",
       "            <th>video</th>\n",
       "            <th>image</th>\n",
       "            <th>text</th>\n",
       "        </tr>\n",
       "    </thead>\n",
       "    <tbody>\n",
       "        <tr>\n",
       "            <td>Facebook</td>\n",
       "            <td>209</td>\n",
       "            <td>218</td>\n",
       "            <td>204</td>\n",
       "        </tr>\n",
       "        <tr>\n",
       "            <td>Instagram</td>\n",
       "            <td>208</td>\n",
       "            <td>267</td>\n",
       "            <td>203</td>\n",
       "        </tr>\n",
       "        <tr>\n",
       "            <td>Twitter</td>\n",
       "            <td>217</td>\n",
       "            <td>249</td>\n",
       "            <td>219</td>\n",
       "        </tr>\n",
       "    </tbody>\n",
       "</table>"
      ],
      "text/plain": [
       "[('Facebook', 209, 218, 204),\n",
       " ('Instagram', 208, 267, 203),\n",
       " ('Twitter', 217, 249, 219)]"
      ]
     },
     "execution_count": 26,
     "metadata": {},
     "output_type": "execute_result"
    }
   ],
   "source": [
    "%sql select platform, sum(CASE WHEN post_type = 'video' then 1 else 0 end) AS video, sum(case when post_type = 'image' then 1 else 0 end) AS image, sum(case when post_type = 'text' then 1 else 0 end) AS text from SOCIALDATATBL group by platform"
   ]
  },
  {
   "cell_type": "markdown",
   "id": "386e1346-04b3-41cb-8bd5-c9e75be8c61c",
   "metadata": {},
   "source": [
    "### Q5) Which type of post had the highest average engagement?"
   ]
  },
  {
   "cell_type": "code",
   "execution_count": 32,
   "id": "88a153cb-ddb1-4d74-8ed2-f5b7b71e1721",
   "metadata": {},
   "outputs": [
    {
     "name": "stdout",
     "output_type": "stream",
     "text": [
      " * sqlite:///my_data1.db\n",
      "Done.\n"
     ]
    },
    {
     "data": {
      "text/html": [
       "<table>\n",
       "    <thead>\n",
       "        <tr>\n",
       "            <th>post_type</th>\n",
       "            <th>likes</th>\n",
       "            <th>shares</th>\n",
       "            <th>comments</th>\n",
       "            <th>avg_engagement</th>\n",
       "        </tr>\n",
       "    </thead>\n",
       "    <tbody>\n",
       "        <tr>\n",
       "            <td>text</td>\n",
       "            <td>780</td>\n",
       "            <td>427</td>\n",
       "            <td>100</td>\n",
       "            <td>2131.4984025559106</td>\n",
       "        </tr>\n",
       "        <tr>\n",
       "            <td>video</td>\n",
       "            <td>515</td>\n",
       "            <td>216</td>\n",
       "            <td>380</td>\n",
       "            <td>2084.205047318612</td>\n",
       "        </tr>\n",
       "        <tr>\n",
       "            <td>image</td>\n",
       "            <td>868</td>\n",
       "            <td>238</td>\n",
       "            <td>352</td>\n",
       "            <td>2068.707084468665</td>\n",
       "        </tr>\n",
       "    </tbody>\n",
       "</table>"
      ],
      "text/plain": [
       "[('text', 780, 427, 100, 2131.4984025559106),\n",
       " ('video', 515, 216, 380, 2084.205047318612),\n",
       " ('image', 868, 238, 352, 2068.707084468665)]"
      ]
     },
     "execution_count": 32,
     "metadata": {},
     "output_type": "execute_result"
    }
   ],
   "source": [
    "%sql select post_type, likes, shares, comments, avg(COALESCE(likes, 0)+COALESCE(shares,0)+COALESCE(comments,0)) as avg_engagement from SOCIALDATATBL group by post_type order by avg_engagement desc"
   ]
  },
  {
   "cell_type": "markdown",
   "id": "22c8f4f8-b1de-4cb6-8567-bf717cd8f2bc",
   "metadata": {},
   "source": [
    "### Q6) What was the total engagement in each quarter of the year?"
   ]
  },
  {
   "cell_type": "code",
   "execution_count": 51,
   "id": "1fd782c6-c8a7-4112-98a2-944b81f045b2",
   "metadata": {},
   "outputs": [
    {
     "name": "stdout",
     "output_type": "stream",
     "text": [
      " * sqlite:///my_data1.db\n",
      "Done.\n"
     ]
    },
    {
     "data": {
      "text/html": [
       "<table>\n",
       "    <thead>\n",
       "        <tr>\n",
       "            <th>Q1_total_engagement</th>\n",
       "        </tr>\n",
       "    </thead>\n",
       "    <tbody>\n",
       "        <tr>\n",
       "            <td>1071642</td>\n",
       "        </tr>\n",
       "    </tbody>\n",
       "</table>"
      ],
      "text/plain": [
       "[(1071642,)]"
      ]
     },
     "execution_count": 51,
     "metadata": {},
     "output_type": "execute_result"
    }
   ],
   "source": [
    "%sql select sum(likes+shares+comments) as Q1_total_engagement from socialdatatbl where date between '2022-10-13' and '2023-01-13'"
   ]
  },
  {
   "cell_type": "code",
   "execution_count": 52,
   "id": "89ed0955-6d7f-463e-b457-4d8c42bc11a1",
   "metadata": {},
   "outputs": [
    {
     "name": "stdout",
     "output_type": "stream",
     "text": [
      " * sqlite:///my_data1.db\n",
      "Done.\n"
     ]
    },
    {
     "data": {
      "text/html": [
       "<table>\n",
       "    <thead>\n",
       "        <tr>\n",
       "            <th>Q2_total_engagement</th>\n",
       "        </tr>\n",
       "    </thead>\n",
       "    <tbody>\n",
       "        <tr>\n",
       "            <td>1042833</td>\n",
       "        </tr>\n",
       "    </tbody>\n",
       "</table>"
      ],
      "text/plain": [
       "[(1042833,)]"
      ]
     },
     "execution_count": 52,
     "metadata": {},
     "output_type": "execute_result"
    }
   ],
   "source": [
    "%sql select sum(likes+shares+comments) as Q2_total_engagement from socialdatatbl where date between '2023-01-14' and '2023-04-14'"
   ]
  },
  {
   "cell_type": "code",
   "execution_count": 53,
   "id": "3c2ae4b4-8e77-4207-9227-bfe48c7f780d",
   "metadata": {},
   "outputs": [
    {
     "name": "stdout",
     "output_type": "stream",
     "text": [
      " * sqlite:///my_data1.db\n",
      "Done.\n"
     ]
    },
    {
     "data": {
      "text/html": [
       "<table>\n",
       "    <thead>\n",
       "        <tr>\n",
       "            <th>Q3_total_engagement</th>\n",
       "        </tr>\n",
       "    </thead>\n",
       "    <tbody>\n",
       "        <tr>\n",
       "            <td>991936</td>\n",
       "        </tr>\n",
       "    </tbody>\n",
       "</table>"
      ],
      "text/plain": [
       "[(991936,)]"
      ]
     },
     "execution_count": 53,
     "metadata": {},
     "output_type": "execute_result"
    }
   ],
   "source": [
    "%sql select sum(likes+shares+comments) as Q3_total_engagement from socialdatatbl where date between '2023-04-15' and '2023-07-15'"
   ]
  },
  {
   "cell_type": "code",
   "execution_count": 54,
   "id": "d8ae68e2-239c-4828-82c1-9a5566fbe6b2",
   "metadata": {},
   "outputs": [
    {
     "name": "stdout",
     "output_type": "stream",
     "text": [
      " * sqlite:///my_data1.db\n",
      "Done.\n"
     ]
    },
    {
     "data": {
      "text/html": [
       "<table>\n",
       "    <thead>\n",
       "        <tr>\n",
       "            <th>Q4_total_engagement</th>\n",
       "        </tr>\n",
       "    </thead>\n",
       "    <tbody>\n",
       "        <tr>\n",
       "            <td>1042498</td>\n",
       "        </tr>\n",
       "    </tbody>\n",
       "</table>"
      ],
      "text/plain": [
       "[(1042498,)]"
      ]
     },
     "execution_count": 54,
     "metadata": {},
     "output_type": "execute_result"
    }
   ],
   "source": [
    "%sql select sum(likes+shares+comments) as Q4_total_engagement from socialdatatbl where date between '2023-07-15' and '2023-10-15'"
   ]
  }
 ],
 "metadata": {
  "kernelspec": {
   "display_name": "Python 3 (ipykernel)",
   "language": "python",
   "name": "python3"
  },
  "language_info": {
   "codemirror_mode": {
    "name": "ipython",
    "version": 3
   },
   "file_extension": ".py",
   "mimetype": "text/x-python",
   "name": "python",
   "nbconvert_exporter": "python",
   "pygments_lexer": "ipython3",
   "version": "3.11.7"
  }
 },
 "nbformat": 4,
 "nbformat_minor": 5
}
